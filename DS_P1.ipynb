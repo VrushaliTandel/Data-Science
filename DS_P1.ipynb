{
  "nbformat": 4,
  "nbformat_minor": 0,
  "metadata": {
    "colab": {
      "name": "DS P1.ipynb",
      "provenance": [],
      "collapsed_sections": []
    },
    "kernelspec": {
      "name": "python3",
      "display_name": "Python 3"
    }
  },
  "cells": [
    {
      "cell_type": "code",
      "metadata": {
        "id": "XU1ZMSjFWz8t"
      },
      "source": [
        "import pandas as pd\n",
        "\n",
        "X_train=pd.read_csv('X_train.csv')\n",
        "Y_train=pd.read_csv('Y_train.csv')\n",
        "\n",
        "X_test=pd.read_csv('X_test.csv')\n",
        "Y_test=pd.read_csv('Y_test.csv')"
      ],
      "execution_count": null,
      "outputs": []
    },
    {
      "cell_type": "code",
      "metadata": {
        "id": "CU_137I2XEgk",
        "outputId": "243aa548-2003-4fbc-b1c4-a38e54ba13f5",
        "colab": {
          "base_uri": "https://localhost:8080/",
          "height": 151
        }
      },
      "source": [
        "print (X_train.head())"
      ],
      "execution_count": null,
      "outputs": [
        {
          "output_type": "stream",
          "text": [
            "    Loan_ID Gender Married  ... Loan_Amount_Term Credit_History Property_Area\n",
            "0  LP001032   Male      No  ...              360              1         Urban\n",
            "1  LP001824   Male     Yes  ...              480              1     Semiurban\n",
            "2  LP002928   Male     Yes  ...              180              1     Semiurban\n",
            "3  LP001814   Male     Yes  ...              360              1         Urban\n",
            "4  LP002244   Male     Yes  ...              360              1         Urban\n",
            "\n",
            "[5 rows x 12 columns]\n"
          ],
          "name": "stdout"
        }
      ]
    },
    {
      "cell_type": "code",
      "metadata": {
        "id": "2iSuYvVzXJ3l",
        "outputId": "5065f94a-6c74-44be-cb5a-9a3bef6aaa6a",
        "colab": {
          "base_uri": "https://localhost:8080/",
          "height": 780
        }
      },
      "source": [
        "import matplotlib.pyplot as plt\n",
        "\n",
        "X_train[X_train.dtypes[(X_train.dtypes==\"float64\")|(X_train.dtypes==\"int64\")].index.values].hist(figsize=[11,11])"
      ],
      "execution_count": null,
      "outputs": [
        {
          "output_type": "execute_result",
          "data": {
            "text/plain": [
              "array([[<matplotlib.axes._subplots.AxesSubplot object at 0x7efcfd344160>,\n",
              "        <matplotlib.axes._subplots.AxesSubplot object at 0x7efcfd29c438>],\n",
              "       [<matplotlib.axes._subplots.AxesSubplot object at 0x7efcfd2d06a0>,\n",
              "        <matplotlib.axes._subplots.AxesSubplot object at 0x7efcfd283908>],\n",
              "       [<matplotlib.axes._subplots.AxesSubplot object at 0x7efcfd330d30>,\n",
              "        <matplotlib.axes._subplots.AxesSubplot object at 0x7efcfd1ef278>]],\n",
              "      dtype=object)"
            ]
          },
          "metadata": {
            "tags": []
          },
          "execution_count": 3
        },
        {
          "output_type": "display_data",
          "data": {
            "image/png": "[encoded data removed]",
            "text/plain": [
              "<Figure size 792x792 with 6 Axes>"
            ]
          },
          "metadata": {
            "tags": [],
            "needs_background": "light"
          }
        }
      ]
    },
    {
      "cell_type": "code",
      "metadata": {
        "id": "2AN5Rsy1YF23",
        "outputId": "e0b614f2-deec-4782-85d5-515b3edf0cb4",
        "colab": {
          "base_uri": "https://localhost:8080/",
          "height": 286
        }
      },
      "source": [
        "from sklearn.neighbors import KNeighborsClassifier\n",
        "from sklearn.metrics import accuracy_score\n",
        "from sklearn.linear_model import LogisticRegression\n",
        "\n",
        "print(\"\\nShape of train set:\", X_train.shape, Y_train.shape)\n",
        "print(\"\\nShape of test set:\", X_test.shape, Y_test.shape)\n",
        "\n",
        "# Initializing and Fitting a k-NN model\n",
        "knn=KNeighborsClassifier(n_neighbors=5)\n",
        "knn.fit(X_train[['ApplicantIncome','CoapplicantIncome','LoanAmount','Loan_Amount_Term','Credit_History']],Y_train.values.ravel())\n",
        "\n",
        "# Checking the performance of our model on the testing data set\n",
        "print(\"\\nAccuracy score on test set :\", accuracy_score(Y_test,knn.predict(X_test[['ApplicantIncome','CoapplicantIncome','LoanAmount', 'Loan_Amount_Term','Credit_History']])))\n",
        "\n",
        "print(\"\\nDistribution of Loan_Status in train set :\")\n",
        "print(Y_train.Target.value_counts()/Y_train.Target.count())\n",
        "\n",
        "print(\"\\nDistribution of Loan_Status in predictions on the test set :\")\n",
        "print(Y_test.Target.value_counts()/Y_test.Target.count())\n"
      ],
      "execution_count": null,
      "outputs": [
        {
          "output_type": "stream",
          "text": [
            "\n",
            "Shape of train set: (384, 12) (384, 1)\n",
            "\n",
            "Shape of test set: (96, 12) (96, 1)\n",
            "\n",
            "Accuracy score on test set : 0.6145833333333334\n",
            "\n",
            "Distribution of Loan_Status in train set :\n",
            "Y    0.705729\n",
            "N    0.294271\n",
            "Name: Target, dtype: float64\n",
            "\n",
            "Distribution of Loan_Status in predictions on the test set :\n",
            "Y    0.635417\n",
            "N    0.364583\n",
            "Name: Target, dtype: float64\n"
          ],
          "name": "stdout"
        }
      ]
    },
    {
      "cell_type": "code",
      "metadata": {
        "id": "gDC8RLZnY83n"
      },
      "source": [
        "from sklearn.preprocessing import MinMaxScaler\n",
        "\n",
        "min_max=MinMaxScaler()\n",
        "\n",
        "X_train_minmax=min_max.fit_transform(X_train[['ApplicantIncome', 'CoapplicantIncome', 'LoanAmount', 'Loan_Amount_Term', 'Credit_History']])\n",
        "X_test_minmax=min_max.fit_transform(X_test[['ApplicantIncome', 'CoapplicantIncome', 'LoanAmount', 'Loan_Amount_Term', 'Credit_History']])"
      ],
      "execution_count": null,
      "outputs": []
    },
    {
      "cell_type": "code",
      "metadata": {
        "id": "IYFmQt4sZaH-",
        "outputId": "8bef7e65-0735-4748-ee25-5735a66fc458",
        "colab": {
          "base_uri": "https://localhost:8080/",
          "height": 87
        }
      },
      "source": [
        "knn=KNeighborsClassifier(n_neighbors=5)\n",
        "knn.fit(X_train_minmax,Y_train)\n",
        "\n",
        "accuracy_score(Y_test,knn.predict(X_test_minmax))"
      ],
      "execution_count": null,
      "outputs": [
        {
          "output_type": "stream",
          "text": [
            "/usr/local/lib/python3.6/dist-packages/ipykernel_launcher.py:2: DataConversionWarning: A column-vector y was passed when a 1d array was expected. Please change the shape of y to (n_samples, ), for example using ravel().\n",
            "  \n"
          ],
          "name": "stderr"
        },
        {
          "output_type": "execute_result",
          "data": {
            "text/plain": [
              "0.75"
            ]
          },
          "metadata": {
            "tags": []
          },
          "execution_count": 6
        }
      ]
    },
    {
      "cell_type": "code",
      "metadata": {
        "id": "v35JoPi87Ap6",
        "outputId": "97f920d6-5b5c-467c-e2dc-f9bd91d12157",
        "colab": {
          "base_uri": "https://localhost:8080/",
          "height": 87
        }
      },
      "source": [
        "# Standardizing the train and test data\n",
        "from sklearn.preprocessing import scale\n",
        "X_train_scale=scale(X_train[['ApplicantIncome', 'CoapplicantIncome',\n",
        "                'LoanAmount', 'Loan_Amount_Term', 'Credit_History']])\n",
        "X_test_scale=scale(X_test[['ApplicantIncome', 'CoapplicantIncome',\n",
        "               'LoanAmount', 'Loan_Amount_Term', 'Credit_History']])\n",
        "\n",
        "from sklearn.linear_model import LogisticRegression\n",
        "log=LogisticRegression(penalty='l2',C=.01)\n",
        "log.fit(X_train_scale,Y_train)\n",
        "\n",
        "accuracy_score(Y_test,log.predict(X_test_scale))"
      ],
      "execution_count": null,
      "outputs": [
        {
          "output_type": "stream",
          "text": [
            "/usr/local/lib/python3.6/dist-packages/sklearn/utils/validation.py:760: DataConversionWarning: A column-vector y was passed when a 1d array was expected. Please change the shape of y to (n_samples, ), for example using ravel().\n",
            "  y = column_or_1d(y, warn=True)\n"
          ],
          "name": "stderr"
        },
        {
          "output_type": "execute_result",
          "data": {
            "text/plain": [
              "0.75"
            ]
          },
          "metadata": {
            "tags": []
          },
          "execution_count": 10
        }
      ]
    },
    {
      "cell_type": "code",
      "metadata": {
        "id": "Hu8LTQQ1ZnKS",
        "outputId": "f5c4bb6e-503a-44e4-e463-1d63da54ef53",
        "colab": {
          "base_uri": "https://localhost:8080/",
          "height": 52
        }
      },
      "source": [
        "'''from sklearn.preprocessing import scale\n",
        "\n",
        "X_train_scale=scale(X_train)\n",
        "X_test_scale=scale(X_test)\n",
        "\n",
        "log=LogisticRegression(penalty='l2',C=.01)\n",
        "log.fit(X_train_scale,Y_train)\n",
        "\n",
        "accuracy_score(Y_test,log.predict(X_test_scale))'''"
      ],
      "execution_count": null,
      "outputs": [
        {
          "output_type": "execute_result",
          "data": {
            "application/vnd.google.colaboratory.intrinsic+json": {
              "type": "string"
            },
            "text/plain": [
              "\"from sklearn.preprocessing import scale\\n\\nX_train_scale=scale(X_train)\\nX_test_scale=scale(X_test)\\n\\nlog=LogisticRegression(penalty='l2',C=.01)\\nlog.fit(X_train_scale,Y_train)\\n\\naccuracy_score(Y_test,log.predict(X_test_scale))\""
            ]
          },
          "metadata": {
            "tags": []
          },
          "execution_count": 11
        }
      ]
    },
    {
      "cell_type": "code",
      "metadata": {
        "id": "jzJi8Ra9aVnR"
      },
      "source": [
        "from sklearn.preprocessing import LabelEncoder\n",
        "le=LabelEncoder()\n",
        "\n",
        "for col in X_test.columns.values:\n",
        "  if X_test[col].dtypes=='object':\n",
        "      data=X_train[col].append(X_test[col])\n",
        "      le.fit(data.values)\n",
        "      X_train[col]=le.transform(X_train[col])\n",
        "      X_test[col]=le.transform(X_test[col])"
      ],
      "execution_count": null,
      "outputs": []
    },
    {
      "cell_type": "code",
      "metadata": {
        "id": "w7fe5uN1cyf_",
        "outputId": "bfa03f46-fc56-4172-c7df-24a46638ca6c",
        "colab": {
          "base_uri": "https://localhost:8080/",
          "height": 87
        }
      },
      "source": [
        "X_train_scale=scale(X_train)\n",
        "X_test_scale=scale(X_test)\n",
        "\n",
        "log=LogisticRegression(penalty='l2',C=1)\n",
        "log.fit(X_train_scale,Y_train)\n",
        "\n",
        "accuracy_score(Y_test,log.predict(X_test_scale))"
      ],
      "execution_count": null,
      "outputs": [
        {
          "output_type": "stream",
          "text": [
            "/usr/local/lib/python3.6/dist-packages/sklearn/utils/validation.py:760: DataConversionWarning: A column-vector y was passed when a 1d array was expected. Please change the shape of y to (n_samples, ), for example using ravel().\n",
            "  y = column_or_1d(y, warn=True)\n"
          ],
          "name": "stderr"
        },
        {
          "output_type": "execute_result",
          "data": {
            "text/plain": [
              "0.7395833333333334"
            ]
          },
          "metadata": {
            "tags": []
          },
          "execution_count": 13
        }
      ]
    },
    {
      "cell_type": "code",
      "metadata": {
        "id": "R_XYfYs1c0_P"
      },
      "source": [
        "from sklearn.preprocessing import OneHotEncoder\n",
        "enc=OneHotEncoder(sparse=False)\n",
        "X_train_1=X_train\n",
        "X_test_1=X_test\n",
        "columns=['Gender', 'Married', 'Dependents', 'Education','Self_Employed','Credit_History', 'Property_Area']\n",
        "\n",
        "for col in columns:\n",
        "  data=X_train[[col]].append(X_test[[col]])\n",
        "  enc.fit(data)\n",
        "       \n",
        "  temp = enc.transform(X_train[[col]])\n",
        "  temp=pd.DataFrame(temp,columns=[(col+\"_\"+str(i)) for i in data[col].value_counts().index])\n",
        "  temp=temp.set_index(X_train.index.values)\n",
        "       \n",
        "  X_train_1=pd.concat([X_train_1,temp],axis=1)\n",
        "       \n",
        "  temp = enc.transform(X_test[[col]])       \n",
        "  temp=pd.DataFrame(temp,columns=[(col+\"_\"+str(i)) for i in data[col].value_counts().index])\n",
        "  temp=temp.set_index(X_test.index.values)\n",
        "       \n",
        "  X_test_1=pd.concat([X_test_1,temp],axis=1)"
      ],
      "execution_count": null,
      "outputs": []
    },
    {
      "cell_type": "code",
      "metadata": {
        "id": "2wgpOGrlc1vi",
        "outputId": "0d0e9115-33a0-4a76-e0ff-c6319a14aac9",
        "colab": {
          "base_uri": "https://localhost:8080/",
          "height": 87
        }
      },
      "source": [
        "X_train_scale=scale(X_train_1)\n",
        "X_test_scale=scale(X_test_1)\n",
        "\n",
        "log=LogisticRegression(penalty='l2',C=1)\n",
        "log.fit(X_train_scale,Y_train)\n",
        "\n",
        "accuracy_score(Y_test,log.predict(X_test_scale))"
      ],
      "execution_count": null,
      "outputs": [
        {
          "output_type": "stream",
          "text": [
            "/usr/local/lib/python3.6/dist-packages/sklearn/utils/validation.py:760: DataConversionWarning: A column-vector y was passed when a 1d array was expected. Please change the shape of y to (n_samples, ), for example using ravel().\n",
            "  y = column_or_1d(y, warn=True)\n"
          ],
          "name": "stderr"
        },
        {
          "output_type": "execute_result",
          "data": {
            "text/plain": [
              "0.75"
            ]
          },
          "metadata": {
            "tags": []
          },
          "execution_count": 15
        }
      ]
    },
    {
      "cell_type": "markdown",
      "metadata": {
        "id": "DWp8wyhuijXW"
      },
      "source": [
        "***********************************************************************"
      ]
    },
    {
      "cell_type": "code",
      "metadata": {
        "id": "yA0pnHJwildJ",
        "outputId": "2353ef6a-269e-43ce-8a30-a094c5eb96c7",
        "colab": {
          "base_uri": "https://localhost:8080/",
          "height": 67
        }
      },
      "source": [
        "from sklearn import preprocessing\n",
        "import numpy as np\n",
        "X_train = np.array([[ 1., -1.,  2.],\n",
        "                    [ 2.,  0.,  0.],\n",
        "                    [ 0.,  1., -1.]])\n",
        "X_scaled = preprocessing.scale(X_train)\n",
        "\n",
        "X_scaled"
      ],
      "execution_count": null,
      "outputs": [
        {
          "output_type": "execute_result",
          "data": {
            "text/plain": [
              "array([[ 0.        , -1.22474487,  1.33630621],\n",
              "       [ 1.22474487,  0.        , -0.26726124],\n",
              "       [-1.22474487,  1.22474487, -1.06904497]])"
            ]
          },
          "metadata": {
            "tags": []
          },
          "execution_count": 16
        }
      ]
    },
    {
      "cell_type": "code",
      "metadata": {
        "id": "S5bBd72Yi5ad",
        "outputId": "ab37da5e-8706-4799-e4d5-b9c55d7ab8b2",
        "colab": {
          "base_uri": "https://localhost:8080/",
          "height": 34
        }
      },
      "source": [
        "X_scaled.mean(axis=0)\n",
        "\n",
        "X_scaled.std(axis=0)"
      ],
      "execution_count": null,
      "outputs": [
        {
          "output_type": "execute_result",
          "data": {
            "text/plain": [
              "array([1., 1., 1.])"
            ]
          },
          "metadata": {
            "tags": []
          },
          "execution_count": 17
        }
      ]
    },
    {
      "cell_type": "code",
      "metadata": {
        "id": "XBwsuSb5i801",
        "outputId": "9b8ca1b6-c59f-4824-c1bf-c02080becdde",
        "colab": {
          "base_uri": "https://localhost:8080/",
          "height": 67
        }
      },
      "source": [
        "scaler = preprocessing.StandardScaler().fit(X_train)\n",
        "scaler\n",
        "scaler.mean_\n",
        "scaler.scale_\n",
        "scaler.transform(X_train)"
      ],
      "execution_count": null,
      "outputs": [
        {
          "output_type": "execute_result",
          "data": {
            "text/plain": [
              "array([[ 0.        , -1.22474487,  1.33630621],\n",
              "       [ 1.22474487,  0.        , -0.26726124],\n",
              "       [-1.22474487,  1.22474487, -1.06904497]])"
            ]
          },
          "metadata": {
            "tags": []
          },
          "execution_count": 18
        }
      ]
    },
    {
      "cell_type": "code",
      "metadata": {
        "id": "i62ie5uwjCrR",
        "outputId": "79eee17b-e2b6-4e73-8c94-62f9436c9888",
        "colab": {
          "base_uri": "https://localhost:8080/",
          "height": 67
        }
      },
      "source": [
        "X_train = np.array([[ 1., -1.,  2.],\n",
        "                    [ 2.,  0.,  0.],\n",
        "                    [ 0.,  1., -1.]])\n",
        "\n",
        "min_max_scaler = preprocessing.MinMaxScaler()\n",
        "X_train_minmax = min_max_scaler.fit_transform(X_train)\n",
        "X_train_minmax"
      ],
      "execution_count": null,
      "outputs": [
        {
          "output_type": "execute_result",
          "data": {
            "text/plain": [
              "array([[0.5       , 0.        , 1.        ],\n",
              "       [1.        , 0.5       , 0.33333333],\n",
              "       [0.        , 1.        , 0.        ]])"
            ]
          },
          "metadata": {
            "tags": []
          },
          "execution_count": 19
        }
      ]
    },
    {
      "cell_type": "code",
      "metadata": {
        "id": "Zz0DxTVbjHaR",
        "outputId": "0cd4c5cd-9a09-4ff4-c5e9-b1f3abf82c2b",
        "colab": {
          "base_uri": "https://localhost:8080/",
          "height": 34
        }
      },
      "source": [
        "X_test = np.array([[-3., -1.,  4.]])\n",
        "X_test_minmax = min_max_scaler.transform(X_test)\n",
        "X_test_minmax"
      ],
      "execution_count": null,
      "outputs": [
        {
          "output_type": "execute_result",
          "data": {
            "text/plain": [
              "array([[-1.5       ,  0.        ,  1.66666667]])"
            ]
          },
          "metadata": {
            "tags": []
          },
          "execution_count": 20
        }
      ]
    },
    {
      "cell_type": "code",
      "metadata": {
        "id": "BZStLQizjL5C",
        "outputId": "4860885a-31af-473b-c018-8c9285ad6b13",
        "colab": {
          "base_uri": "https://localhost:8080/",
          "height": 34
        }
      },
      "source": [
        "min_max_scaler.scale_\n",
        "min_max_scaler.min_"
      ],
      "execution_count": null,
      "outputs": [
        {
          "output_type": "execute_result",
          "data": {
            "text/plain": [
              "array([0.        , 0.5       , 0.33333333])"
            ]
          },
          "metadata": {
            "tags": []
          },
          "execution_count": 21
        }
      ]
    },
    {
      "cell_type": "code",
      "metadata": {
        "id": "6Skq1dc6jSzl",
        "outputId": "a06c668f-9471-43a2-8fc5-908ed0b81be2",
        "colab": {
          "base_uri": "https://localhost:8080/",
          "height": 34
        }
      },
      "source": [
        "X_train = np.array([[ 1., -1.,  2.],\n",
        "                    [ 2.,  0.,  0.],\n",
        "                    [ 0.,  1., -1.]])\n",
        "\n",
        "max_abs_scaler = preprocessing.MaxAbsScaler()\n",
        "X_train_maxabs = max_abs_scaler.fit_transform(X_train)\n",
        "X_train_maxabs\n",
        "\n",
        "X_test = np.array([[ -3., -1.,  4.]])\n",
        "X_test_maxabs = max_abs_scaler.transform(X_test)\n",
        "X_test_maxabs\n",
        "\n",
        "max_abs_scaler.scale_"
      ],
      "execution_count": null,
      "outputs": [
        {
          "output_type": "execute_result",
          "data": {
            "text/plain": [
              "array([2., 1., 2.])"
            ]
          },
          "metadata": {
            "tags": []
          },
          "execution_count": 22
        }
      ]
    },
    {
      "cell_type": "code",
      "metadata": {
        "id": "mafqBe5pjYOz",
        "outputId": "722052c5-3b3f-453a-e374-1cc22df59ff5",
        "colab": {
          "base_uri": "https://localhost:8080/",
          "height": 87
        }
      },
      "source": [
        "from sklearn.datasets import load_iris\n",
        "from sklearn.model_selection import train_test_split\n",
        "X, y = load_iris(return_X_y=True)\n",
        "X_train, X_test, y_train, y_test = train_test_split(X, y, random_state=0)\n",
        "quantile_transformer = preprocessing.QuantileTransformer(random_state=0)\n",
        "X_train_trans = quantile_transformer.fit_transform(X_train)\n",
        "X_test_trans = quantile_transformer.transform(X_test)\n",
        "np.percentile(X_train[:, 0], [0, 25, 50, 75, 100])"
      ],
      "execution_count": null,
      "outputs": [
        {
          "output_type": "stream",
          "text": [
            "/usr/local/lib/python3.6/dist-packages/sklearn/preprocessing/_data.py:2357: UserWarning: n_quantiles (1000) is greater than the total number of samples (112). n_quantiles is set to n_samples.\n",
            "  % (self.n_quantiles, n_samples))\n"
          ],
          "name": "stderr"
        },
        {
          "output_type": "execute_result",
          "data": {
            "text/plain": [
              "array([4.3, 5.1, 5.8, 6.5, 7.9])"
            ]
          },
          "metadata": {
            "tags": []
          },
          "execution_count": 23
        }
      ]
    },
    {
      "cell_type": "code",
      "metadata": {
        "id": "Ek9ABE5vjc_U",
        "outputId": "cbedd80e-4b63-406f-84cf-81d51e3c48da",
        "colab": {
          "base_uri": "https://localhost:8080/",
          "height": 34
        }
      },
      "source": [
        "np.percentile(X_train_trans[:, 0], [0, 25, 50, 75, 100])\n",
        "np.percentile(X_test[:, 0], [0, 25, 50, 75, 100])\n",
        "np.percentile(X_test_trans[:, 0], [0, 25, 50, 75, 100])"
      ],
      "execution_count": null,
      "outputs": [
        {
          "output_type": "execute_result",
          "data": {
            "text/plain": [
              "array([0.01351351, 0.25112613, 0.47972973, 0.60472973, 0.94144144])"
            ]
          },
          "metadata": {
            "tags": []
          },
          "execution_count": 24
        }
      ]
    },
    {
      "cell_type": "code",
      "metadata": {
        "id": "cBtrfkwXjnAi",
        "outputId": "ed51d216-2b12-4c72-ec45-2a78d0ca02c4",
        "colab": {
          "base_uri": "https://localhost:8080/",
          "height": 67
        }
      },
      "source": [
        "pt = preprocessing.PowerTransformer(method='box-cox', standardize=False)\n",
        "\n",
        "X_lognormal = np.random.RandomState(616).lognormal(size=(3, 3))\n",
        "X_lognormal\n",
        "\n",
        "pt.fit_transform(X_lognormal)"
      ],
      "execution_count": null,
      "outputs": [
        {
          "output_type": "execute_result",
          "data": {
            "text/plain": [
              "array([[ 0.49024349,  0.17881995, -0.1563781 ],\n",
              "       [-0.05102892,  0.58863195, -0.57612415],\n",
              "       [ 0.69420009, -0.84857822,  0.10051454]])"
            ]
          },
          "metadata": {
            "tags": []
          },
          "execution_count": 25
        }
      ]
    },
    {
      "cell_type": "code",
      "metadata": {
        "id": "c2sIDxRcjuwT",
        "outputId": "35b7fd26-8139-4332-ad11-cc939b700527",
        "colab": {
          "base_uri": "https://localhost:8080/",
          "height": 1000
        }
      },
      "source": [
        "quantile_transformer = preprocessing.QuantileTransformer(output_distribution='normal', random_state=0)\n",
        "X_trans = quantile_transformer.fit_transform(X)\n",
        "quantile_transformer.quantiles_"
      ],
      "execution_count": null,
      "outputs": [
        {
          "output_type": "stream",
          "text": [
            "/usr/local/lib/python3.6/dist-packages/sklearn/preprocessing/_data.py:2357: UserWarning: n_quantiles (1000) is greater than the total number of samples (150). n_quantiles is set to n_samples.\n",
            "  % (self.n_quantiles, n_samples))\n"
          ],
          "name": "stderr"
        },
        {
          "output_type": "execute_result",
          "data": {
            "text/plain": [
              "array([[4.3, 2. , 1. , 0.1],\n",
              "       [4.4, 2.2, 1.1, 0.1],\n",
              "       [4.4, 2.2, 1.2, 0.1],\n",
              "       [4.4, 2.2, 1.2, 0.1],\n",
              "       [4.5, 2.3, 1.3, 0.1],\n",
              "       [4.6, 2.3, 1.3, 0.2],\n",
              "       [4.6, 2.3, 1.3, 0.2],\n",
              "       [4.6, 2.3, 1.3, 0.2],\n",
              "       [4.6, 2.4, 1.3, 0.2],\n",
              "       [4.7, 2.4, 1.3, 0.2],\n",
              "       [4.7, 2.4, 1.3, 0.2],\n",
              "       [4.8, 2.5, 1.4, 0.2],\n",
              "       [4.8, 2.5, 1.4, 0.2],\n",
              "       [4.8, 2.5, 1.4, 0.2],\n",
              "       [4.8, 2.5, 1.4, 0.2],\n",
              "       [4.8, 2.5, 1.4, 0.2],\n",
              "       [4.9, 2.5, 1.4, 0.2],\n",
              "       [4.9, 2.5, 1.4, 0.2],\n",
              "       [4.9, 2.5, 1.4, 0.2],\n",
              "       [4.9, 2.6, 1.4, 0.2],\n",
              "       [4.9, 2.6, 1.4, 0.2],\n",
              "       [4.9, 2.6, 1.4, 0.2],\n",
              "       [5. , 2.6, 1.4, 0.2],\n",
              "       [5. , 2.6, 1.4, 0.2],\n",
              "       [5. , 2.7, 1.5, 0.2],\n",
              "       [5. , 2.7, 1.5, 0.2],\n",
              "       [5. , 2.7, 1.5, 0.2],\n",
              "       [5. , 2.7, 1.5, 0.2],\n",
              "       [5. , 2.7, 1.5, 0.2],\n",
              "       [5. , 2.7, 1.5, 0.2],\n",
              "       [5. , 2.7, 1.5, 0.2],\n",
              "       [5. , 2.7, 1.5, 0.2],\n",
              "       [5.1, 2.7, 1.5, 0.2],\n",
              "       [5.1, 2.8, 1.5, 0.2],\n",
              "       [5.1, 2.8, 1.5, 0.3],\n",
              "       [5.1, 2.8, 1.5, 0.3],\n",
              "       [5.1, 2.8, 1.5, 0.3],\n",
              "       [5.1, 2.8, 1.6, 0.3],\n",
              "       [5.1, 2.8, 1.6, 0.3],\n",
              "       [5.1, 2.8, 1.6, 0.3],\n",
              "       [5.1, 2.8, 1.6, 0.3],\n",
              "       [5.2, 2.8, 1.6, 0.4],\n",
              "       [5.2, 2.8, 1.6, 0.4],\n",
              "       [5.2, 2.8, 1.6, 0.4],\n",
              "       [5.2, 2.8, 1.7, 0.4],\n",
              "       [5.3, 2.8, 1.7, 0.4],\n",
              "       [5.4, 2.8, 1.7, 0.4],\n",
              "       [5.4, 2.9, 1.7, 0.4],\n",
              "       [5.4, 2.9, 1.9, 0.5],\n",
              "       [5.4, 2.9, 1.9, 0.6],\n",
              "       [5.4, 2.9, 3. , 1. ],\n",
              "       [5.4, 2.9, 3.3, 1. ],\n",
              "       [5.5, 2.9, 3.3, 1. ],\n",
              "       [5.5, 2.9, 3.5, 1. ],\n",
              "       [5.5, 2.9, 3.5, 1. ],\n",
              "       [5.5, 2.9, 3.6, 1. ],\n",
              "       [5.5, 2.9, 3.7, 1. ],\n",
              "       [5.5, 3. , 3.8, 1.1],\n",
              "       [5.5, 3. , 3.9, 1.1],\n",
              "       [5.6, 3. , 3.9, 1.1],\n",
              "       [5.6, 3. , 3.9, 1.2],\n",
              "       [5.6, 3. , 4. , 1.2],\n",
              "       [5.6, 3. , 4. , 1.2],\n",
              "       [5.6, 3. , 4. , 1.2],\n",
              "       [5.6, 3. , 4. , 1.2],\n",
              "       [5.7, 3. , 4. , 1.3],\n",
              "       [5.7, 3. , 4.1, 1.3],\n",
              "       [5.7, 3. , 4.1, 1.3],\n",
              "       [5.7, 3. , 4.1, 1.3],\n",
              "       [5.7, 3. , 4.2, 1.3],\n",
              "       [5.7, 3. , 4.2, 1.3],\n",
              "       [5.7, 3. , 4.2, 1.3],\n",
              "       [5.7, 3. , 4.2, 1.3],\n",
              "       [5.8, 3. , 4.3, 1.3],\n",
              "       [5.8, 3. , 4.3, 1.3],\n",
              "       [5.8, 3. , 4.4, 1.3],\n",
              "       [5.8, 3. , 4.4, 1.3],\n",
              "       [5.8, 3. , 4.4, 1.3],\n",
              "       [5.8, 3. , 4.4, 1.4],\n",
              "       [5.8, 3. , 4.5, 1.4],\n",
              "       [5.9, 3. , 4.5, 1.4],\n",
              "       [5.9, 3. , 4.5, 1.4],\n",
              "       [5.9, 3. , 4.5, 1.4],\n",
              "       [6. , 3.1, 4.5, 1.4],\n",
              "       [6. , 3.1, 4.5, 1.4],\n",
              "       [6. , 3.1, 4.5, 1.4],\n",
              "       [6. , 3.1, 4.5, 1.5],\n",
              "       [6. , 3.1, 4.6, 1.5],\n",
              "       [6. , 3.1, 4.6, 1.5],\n",
              "       [6.1, 3.1, 4.6, 1.5],\n",
              "       [6.1, 3.1, 4.7, 1.5],\n",
              "       [6.1, 3.1, 4.7, 1.5],\n",
              "       [6.1, 3.1, 4.7, 1.5],\n",
              "       [6.1, 3.1, 4.7, 1.5],\n",
              "       [6.1, 3.2, 4.7, 1.5],\n",
              "       [6.2, 3.2, 4.8, 1.5],\n",
              "       [6.2, 3.2, 4.8, 1.5],\n",
              "       [6.2, 3.2, 4.8, 1.5],\n",
              "       [6.2, 3.2, 4.8, 1.6],\n",
              "       [6.3, 3.2, 4.9, 1.6],\n",
              "       [6.3, 3.2, 4.9, 1.6],\n",
              "       [6.3, 3.2, 4.9, 1.6],\n",
              "       [6.3, 3.2, 4.9, 1.7],\n",
              "       [6.3, 3.2, 4.9, 1.7],\n",
              "       [6.3, 3.2, 5. , 1.8],\n",
              "       [6.3, 3.2, 5. , 1.8],\n",
              "       [6.3, 3.2, 5. , 1.8],\n",
              "       [6.3, 3.3, 5. , 1.8],\n",
              "       [6.4, 3.3, 5.1, 1.8],\n",
              "       [6.4, 3.3, 5.1, 1.8],\n",
              "       [6.4, 3.3, 5.1, 1.8],\n",
              "       [6.4, 3.3, 5.1, 1.8],\n",
              "       [6.4, 3.3, 5.1, 1.8],\n",
              "       [6.4, 3.4, 5.1, 1.8],\n",
              "       [6.4, 3.4, 5.1, 1.8],\n",
              "       [6.5, 3.4, 5.1, 1.8],\n",
              "       [6.5, 3.4, 5.2, 1.9],\n",
              "       [6.5, 3.4, 5.2, 1.9],\n",
              "       [6.5, 3.4, 5.3, 1.9],\n",
              "       [6.5, 3.4, 5.3, 1.9],\n",
              "       [6.6, 3.4, 5.4, 1.9],\n",
              "       [6.6, 3.4, 5.4, 2. ],\n",
              "       [6.7, 3.4, 5.5, 2. ],\n",
              "       [6.7, 3.4, 5.5, 2. ],\n",
              "       [6.7, 3.4, 5.5, 2. ],\n",
              "       [6.7, 3.5, 5.6, 2. ],\n",
              "       [6.7, 3.5, 5.6, 2. ],\n",
              "       [6.7, 3.5, 5.6, 2.1],\n",
              "       [6.7, 3.5, 5.6, 2.1],\n",
              "       [6.7, 3.5, 5.6, 2.1],\n",
              "       [6.8, 3.5, 5.6, 2.1],\n",
              "       [6.8, 3.6, 5.7, 2.1],\n",
              "       [6.8, 3.6, 5.7, 2.1],\n",
              "       [6.9, 3.6, 5.7, 2.2],\n",
              "       [6.9, 3.6, 5.8, 2.2],\n",
              "       [6.9, 3.7, 5.8, 2.2],\n",
              "       [6.9, 3.7, 5.8, 2.3],\n",
              "       [7. , 3.7, 5.9, 2.3],\n",
              "       [7.1, 3.8, 5.9, 2.3],\n",
              "       [7.2, 3.8, 6. , 2.3],\n",
              "       [7.2, 3.8, 6. , 2.3],\n",
              "       [7.2, 3.8, 6.1, 2.3],\n",
              "       [7.3, 3.8, 6.1, 2.3],\n",
              "       [7.4, 3.8, 6.1, 2.3],\n",
              "       [7.6, 3.9, 6.3, 2.4],\n",
              "       [7.7, 3.9, 6.4, 2.4],\n",
              "       [7.7, 4. , 6.6, 2.4],\n",
              "       [7.7, 4.1, 6.7, 2.5],\n",
              "       [7.7, 4.2, 6.7, 2.5],\n",
              "       [7.9, 4.4, 6.9, 2.5]])"
            ]
          },
          "metadata": {
            "tags": []
          },
          "execution_count": 26
        }
      ]
    },
    {
      "cell_type": "code",
      "metadata": {
        "id": "i5Pb1h1hj0Yr",
        "outputId": "883d3895-9f3d-48d3-a64d-dafc9da38e83",
        "colab": {
          "base_uri": "https://localhost:8080/",
          "height": 67
        }
      },
      "source": [
        "X = [[ 1., -1.,  2.],\n",
        "     [ 2.,  0.,  0.],\n",
        "     [ 0.,  1., -1.]]\n",
        "X_normalized = preprocessing.normalize(X, norm='l2')\n",
        "\n",
        "X_normalized"
      ],
      "execution_count": null,
      "outputs": [
        {
          "output_type": "execute_result",
          "data": {
            "text/plain": [
              "array([[ 0.40824829, -0.40824829,  0.81649658],\n",
              "       [ 1.        ,  0.        ,  0.        ],\n",
              "       [ 0.        ,  0.70710678, -0.70710678]])"
            ]
          },
          "metadata": {
            "tags": []
          },
          "execution_count": 27
        }
      ]
    },
    {
      "cell_type": "code",
      "metadata": {
        "id": "wkAeDSxbj4fL",
        "outputId": "79d7fb4f-d2c6-4958-928b-bc9d220d73a4",
        "colab": {
          "base_uri": "https://localhost:8080/",
          "height": 34
        }
      },
      "source": [
        "normalizer = preprocessing.Normalizer().fit(X)  # fit does nothing\n",
        "normalizer"
      ],
      "execution_count": null,
      "outputs": [
        {
          "output_type": "execute_result",
          "data": {
            "text/plain": [
              "Normalizer(copy=True, norm='l2')"
            ]
          },
          "metadata": {
            "tags": []
          },
          "execution_count": 28
        }
      ]
    },
    {
      "cell_type": "code",
      "metadata": {
        "id": "S-Vk76alj5OT",
        "outputId": "c66543cd-d873-4da5-ff98-143035b1747f",
        "colab": {
          "base_uri": "https://localhost:8080/",
          "height": 34
        }
      },
      "source": [
        "normalizer.transform(X)\n",
        "normalizer.transform([[-1.,  1., 0.]])"
      ],
      "execution_count": null,
      "outputs": [
        {
          "output_type": "execute_result",
          "data": {
            "text/plain": [
              "array([[-0.70710678,  0.70710678,  0.        ]])"
            ]
          },
          "metadata": {
            "tags": []
          },
          "execution_count": 29
        }
      ]
    },
    {
      "cell_type": "code",
      "metadata": {
        "id": "fqil6NG_j5Uw",
        "outputId": "1e4df98b-78f5-4793-ad2e-012207f7ecfe",
        "colab": {
          "base_uri": "https://localhost:8080/",
          "height": 34
        }
      },
      "source": [
        "enc = preprocessing.OrdinalEncoder()\n",
        "X = [['male', 'from US', 'uses Safari'], \n",
        "     ['female', 'from Europe', 'uses Firefox']]\n",
        "enc.fit(X)\n",
        "\n",
        "enc.transform([['female', 'from US', 'uses Safari']])"
      ],
      "execution_count": null,
      "outputs": [
        {
          "output_type": "execute_result",
          "data": {
            "text/plain": [
              "array([[0., 1., 1.]])"
            ]
          },
          "metadata": {
            "tags": []
          },
          "execution_count": 30
        }
      ]
    },
    {
      "cell_type": "code",
      "metadata": {
        "id": "F0ubPb1zj5Xi",
        "outputId": "c834b722-1131-4091-c3c6-06e735a71c63",
        "colab": {
          "base_uri": "https://localhost:8080/",
          "height": 50
        }
      },
      "source": [
        "enc = preprocessing.OneHotEncoder()\n",
        "X = [['male', 'from US', 'uses Safari'], ['female', 'from Europe', 'uses Firefox']]\n",
        "enc.fit(X)\n",
        "\n",
        "enc.transform([['female', 'from US', 'uses Safari'],['male', 'from Europe', 'uses Safari']]).toarray()"
      ],
      "execution_count": null,
      "outputs": [
        {
          "output_type": "execute_result",
          "data": {
            "text/plain": [
              "array([[1., 0., 0., 1., 0., 1.],\n",
              "       [0., 1., 1., 0., 0., 1.]])"
            ]
          },
          "metadata": {
            "tags": []
          },
          "execution_count": 31
        }
      ]
    },
    {
      "cell_type": "code",
      "metadata": {
        "id": "-HOpDahej5aD",
        "outputId": "fb938142-4385-4b50-b0f7-0e860fe0831f",
        "colab": {
          "base_uri": "https://localhost:8080/",
          "height": 34
        }
      },
      "source": [
        "genders = ['female', 'male']\n",
        "locations = ['from Africa', 'from Asia', 'from Europe', 'from US']\n",
        "browsers = ['uses Chrome', 'uses Firefox', 'uses IE', 'uses Safari']\n",
        "enc = preprocessing.OneHotEncoder(categories=[genders, locations, browsers])\n",
        "\n",
        "X = [['male', 'from US', 'uses Safari'], ['female', 'from Europe', 'uses Firefox']]\n",
        "enc.fit(X)\n",
        "\n",
        "enc.transform([['female', 'from Asia', 'uses Chrome']]).toarray()"
      ],
      "execution_count": null,
      "outputs": [
        {
          "output_type": "execute_result",
          "data": {
            "text/plain": [
              "array([[1., 0., 0., 1., 0., 0., 1., 0., 0., 0.]])"
            ]
          },
          "metadata": {
            "tags": []
          },
          "execution_count": 32
        }
      ]
    },
    {
      "cell_type": "code",
      "metadata": {
        "id": "LBg9dN_Ej5dg",
        "outputId": "4f42c201-6ff0-4590-a4b7-0af3c961337d",
        "colab": {
          "base_uri": "https://localhost:8080/",
          "height": 34
        }
      },
      "source": [
        "enc = preprocessing.OneHotEncoder(handle_unknown='ignore')\n",
        "X = [['male', 'from US', 'uses Safari'], ['female', 'from Europe', 'uses Firefox']]\n",
        "enc.fit(X)\n",
        "\n",
        "enc.transform([['female', 'from Asia', 'uses Chrome']]).toarray()"
      ],
      "execution_count": null,
      "outputs": [
        {
          "output_type": "execute_result",
          "data": {
            "text/plain": [
              "array([[1., 0., 0., 0., 0., 0.]])"
            ]
          },
          "metadata": {
            "tags": []
          },
          "execution_count": 33
        }
      ]
    },
    {
      "cell_type": "code",
      "metadata": {
        "id": "n4LXoUTwkPe1",
        "outputId": "bf6f8551-aac8-4295-fbe0-192be2629105",
        "colab": {
          "base_uri": "https://localhost:8080/",
          "height": 50
        }
      },
      "source": [
        "X = [['male', 'from US', 'uses Safari'],['female', 'from Europe', 'uses Firefox']]\n",
        "drop_enc = preprocessing.OneHotEncoder(drop='first').fit(X)\n",
        "drop_enc.categories_\n",
        "\n",
        "drop_enc.transform(X).toarray()"
      ],
      "execution_count": null,
      "outputs": [
        {
          "output_type": "execute_result",
          "data": {
            "text/plain": [
              "array([[1., 1., 1.],\n",
              "       [0., 0., 0.]])"
            ]
          },
          "metadata": {
            "tags": []
          },
          "execution_count": 34
        }
      ]
    },
    {
      "cell_type": "code",
      "metadata": {
        "id": "1EJrHn60kPqz"
      },
      "source": [
        "X = np.array([[ -3., 5., 15 ],\n",
        "              [  0., 6., 14 ],\n",
        "              [  6., 3., 11 ]])\n",
        "est = preprocessing.KBinsDiscretizer(n_bins=[3, 2, 2], encode='ordinal').fit(X)"
      ],
      "execution_count": null,
      "outputs": []
    },
    {
      "cell_type": "code",
      "metadata": {
        "id": "DH6VFv_bkcIl",
        "outputId": "e3ba57a1-4f2e-41b1-f8f9-ee3fcdd3a9c3",
        "colab": {
          "base_uri": "https://localhost:8080/",
          "height": 67
        }
      },
      "source": [
        "est.transform(X)"
      ],
      "execution_count": null,
      "outputs": [
        {
          "output_type": "execute_result",
          "data": {
            "text/plain": [
              "array([[0., 1., 1.],\n",
              "       [1., 1., 1.],\n",
              "       [2., 0., 0.]])"
            ]
          },
          "metadata": {
            "tags": []
          },
          "execution_count": 36
        }
      ]
    },
    {
      "cell_type": "code",
      "metadata": {
        "id": "g_EsnMWPkfBu",
        "outputId": "321812a7-5cec-4d8b-e5b7-52c8d5031259",
        "colab": {
          "base_uri": "https://localhost:8080/",
          "height": 67
        }
      },
      "source": [
        "X = [[ 1., -1.,  2.],\n",
        "     [ 2.,  0.,  0.],\n",
        "     [ 0.,  1., -1.]]\n",
        "\n",
        "binarizer = preprocessing.Binarizer().fit(X)  # fit does nothing\n",
        "binarizer\n",
        "\n",
        "\n",
        "binarizer.transform(X)"
      ],
      "execution_count": null,
      "outputs": [
        {
          "output_type": "execute_result",
          "data": {
            "text/plain": [
              "array([[1., 0., 1.],\n",
              "       [1., 0., 0.],\n",
              "       [0., 1., 0.]])"
            ]
          },
          "metadata": {
            "tags": []
          },
          "execution_count": 37
        }
      ]
    },
    {
      "cell_type": "code",
      "metadata": {
        "id": "UEz0CrXRkj8w",
        "outputId": "64c3bbb4-35d6-4676-c50f-af0f19d07ea5",
        "colab": {
          "base_uri": "https://localhost:8080/",
          "height": 67
        }
      },
      "source": [
        "binarizer = preprocessing.Binarizer(threshold=1.1)\n",
        "binarizer.transform(X)"
      ],
      "execution_count": null,
      "outputs": [
        {
          "output_type": "execute_result",
          "data": {
            "text/plain": [
              "array([[0., 0., 1.],\n",
              "       [1., 0., 0.],\n",
              "       [0., 0., 0.]])"
            ]
          },
          "metadata": {
            "tags": []
          },
          "execution_count": 38
        }
      ]
    },
    {
      "cell_type": "code",
      "metadata": {
        "id": "_VJQooxJkkEM",
        "outputId": "4f744423-0d24-4cb3-8ec4-e0c7fe9d6b5a",
        "colab": {
          "base_uri": "https://localhost:8080/",
          "height": 67
        }
      },
      "source": [
        "import numpy as np\n",
        "from sklearn.preprocessing import PolynomialFeatures\n",
        "X = np.arange(6).reshape(3, 2)\n",
        "X\n",
        "\n",
        "poly = PolynomialFeatures(2)\n",
        "poly.fit_transform(X)"
      ],
      "execution_count": null,
      "outputs": [
        {
          "output_type": "execute_result",
          "data": {
            "text/plain": [
              "array([[ 1.,  0.,  1.,  0.,  0.,  1.],\n",
              "       [ 1.,  2.,  3.,  4.,  6.,  9.],\n",
              "       [ 1.,  4.,  5., 16., 20., 25.]])"
            ]
          },
          "metadata": {
            "tags": []
          },
          "execution_count": 39
        }
      ]
    },
    {
      "cell_type": "code",
      "metadata": {
        "id": "N5DIDXoLkkMm",
        "outputId": "756ca215-a89f-4adb-9791-4481da1e2468",
        "colab": {
          "base_uri": "https://localhost:8080/",
          "height": 67
        }
      },
      "source": [
        "X = np.arange(9).reshape(3, 3)\n",
        "X\n",
        "\n",
        "poly = PolynomialFeatures(degree=3, interaction_only=True)\n",
        "poly.fit_transform(X)\n"
      ],
      "execution_count": null,
      "outputs": [
        {
          "output_type": "execute_result",
          "data": {
            "text/plain": [
              "array([[  1.,   0.,   1.,   2.,   0.,   0.,   2.,   0.],\n",
              "       [  1.,   3.,   4.,   5.,  12.,  15.,  20.,  60.],\n",
              "       [  1.,   6.,   7.,   8.,  42.,  48.,  56., 336.]])"
            ]
          },
          "metadata": {
            "tags": []
          },
          "execution_count": 40
        }
      ]
    },
    {
      "cell_type": "code",
      "metadata": {
        "id": "VgkcCGdakkUk",
        "outputId": "2bb91d1c-2899-4cd3-9551-6ff96a975a0c",
        "colab": {
          "base_uri": "https://localhost:8080/",
          "height": 50
        }
      },
      "source": [
        "import numpy as np\n",
        "from sklearn.preprocessing import FunctionTransformer\n",
        "transformer = FunctionTransformer(np.log1p, validate=True)\n",
        "X = np.array([[0, 1], [2, 3]])\n",
        "transformer.transform(X)"
      ],
      "execution_count": null,
      "outputs": [
        {
          "output_type": "execute_result",
          "data": {
            "text/plain": [
              "array([[0.        , 0.69314718],\n",
              "       [1.09861229, 1.38629436]])"
            ]
          },
          "metadata": {
            "tags": []
          },
          "execution_count": 41
        }
      ]
    },
    {
      "cell_type": "code",
      "metadata": {
        "id": "DYhJ0epIk0TF"
      },
      "source": [
        "import warnings\n",
        "warnings.filterwarnings(\"error\", message=\".*check_inverse*.\",category=UserWarning, append=False)"
      ],
      "execution_count": null,
      "outputs": []
    },
    {
      "cell_type": "markdown",
      "metadata": {
        "id": "3Mu37nhvEYX2"
      },
      "source": [
        "**************************************************************************************************"
      ]
    },
    {
      "cell_type": "code",
      "metadata": {
        "id": "z-3OhJPhEXDG",
        "outputId": "e526d96a-caac-49c3-aa7c-ff76aafa4543",
        "colab": {
          "base_uri": "https://localhost:8080/",
          "height": 67
        }
      },
      "source": [
        "import numpy as np\n",
        "from sklearn.impute import SimpleImputer\n",
        "imp = SimpleImputer(missing_values=np.nan, strategy='mean')\n",
        "imp.fit([[1, 2], [np.nan, 3], [7, 6]])\n",
        "\n",
        "X = [[np.nan, 2], [6, np.nan], [7, 6]]\n",
        "print(imp.transform(X))\n"
      ],
      "execution_count": null,
      "outputs": [
        {
          "output_type": "stream",
          "text": [
            "[[4.         2.        ]\n",
            " [6.         3.66666667]\n",
            " [7.         6.        ]]\n"
          ],
          "name": "stdout"
        }
      ]
    },
    {
      "cell_type": "code",
      "metadata": {
        "id": "BIt2UH3iGGCR",
        "outputId": "995e1214-ffdd-4ae0-ba4d-b6b1a3e78cdb",
        "colab": {
          "base_uri": "https://localhost:8080/",
          "height": 84
        }
      },
      "source": [
        "import pandas as pd\n",
        "df = pd.DataFrame([[\"a\", \"x\"],\n",
        "                   [np.nan, \"y\"],\n",
        "                   [\"a\", np.nan],\n",
        "                   [\"b\", \"y\"]], dtype=\"category\")\n",
        "\n",
        "imp = SimpleImputer(strategy=\"most_frequent\")\n",
        "print(imp.fit_transform(df))"
      ],
      "execution_count": null,
      "outputs": [
        {
          "output_type": "stream",
          "text": [
            "[['a' 'x']\n",
            " ['a' 'y']\n",
            " ['a' 'y']\n",
            " ['b' 'y']]\n"
          ],
          "name": "stdout"
        }
      ]
    },
    {
      "cell_type": "code",
      "metadata": {
        "id": "seQm_yzeGJui",
        "outputId": "24ac3fe0-1bb6-4170-fef3-114718760578",
        "colab": {
          "base_uri": "https://localhost:8080/",
          "height": 67
        }
      },
      "source": [
        "import numpy as np\n",
        "from sklearn.experimental import enable_iterative_imputer\n",
        "from sklearn.impute import IterativeImputer\n",
        "imp = IterativeImputer(max_iter=10, random_state=0)\n",
        "imp.fit([[1, 2], [3, 6], [4, 8], [np.nan, 3], [7, np.nan]])\n",
        "\n",
        "X_test = [[np.nan, 2], [6, np.nan], [np.nan, 6]]\n",
        "print(np.round(imp.transform(X_test)))"
      ],
      "execution_count": null,
      "outputs": [
        {
          "output_type": "stream",
          "text": [
            "[[ 1.  2.]\n",
            " [ 6. 12.]\n",
            " [ 3.  6.]]\n"
          ],
          "name": "stdout"
        }
      ]
    }
  ]
}